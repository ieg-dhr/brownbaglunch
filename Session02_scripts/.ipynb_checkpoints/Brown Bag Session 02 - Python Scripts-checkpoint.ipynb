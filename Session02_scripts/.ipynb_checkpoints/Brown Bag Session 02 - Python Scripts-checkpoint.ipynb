{
 "cells": [
  {
   "cell_type": "markdown",
   "metadata": {},
   "source": [
    "# Python scripts - brown bag session 02\n",
    "\n",
    "This Jupyter notebook contains the introductory presentation on Python scripts to our colleagues at the Leibniz-Institut of European History\n",
    "\n",
    "Authors:  \n",
    "Jaap Geraerts   \n",
    "Demi Vasques"
   ]
  },
  {
   "cell_type": "markdown",
   "metadata": {},
   "source": [
    "# RUNNING SCRIPTS"
   ]
  },
  {
   "cell_type": "markdown",
   "metadata": {},
   "source": [
    "## Introduction"
   ]
  },
  {
   "cell_type": "markdown",
   "metadata": {},
   "source": [
    "![Image of code](https://dollars-bbs.org/suggestions/src/1445876922671.jpg)"
   ]
  },
  {
   "cell_type": "code",
   "execution_count": null,
   "metadata": {},
   "outputs": [],
   "source": [
    "## Content"
   ]
  },
  {
   "cell_type": "markdown",
   "metadata": {},
   "source": [
    "**1. What are scripts and how can they assist our historical research?**\n",
    "\n",
    "**2. Where to find scripts?**\n",
    "\n",
    "**3. How to run and use scripts?**"
   ]
  },
  {
   "cell_type": "markdown",
   "metadata": {},
   "source": [
    "## What is a script?"
   ]
  },
  {
   "cell_type": "markdown",
   "metadata": {},
   "source": [
    " 1. Difference between **mark-up languages** (e.g. HTML, XML) and **progamming languages**\n",
    "    \n",
    "    *HTML example*\n",
    "    \n",
    "    <HTML>\n",
    "\n",
    "        <HEAD>\n",
    "\n",
    "        <TITLE>Your Title Here</TITLE>\n",
    "\n",
    "    </HEAD>\n",
    "\n",
    "    <BODY BGCOLOR=\"FFFFFF\">\n",
    "\n",
    "    <CENTER><IMG SRC=\"clouds.jpg\" ALIGN=\"BOTTOM\"> </CENTER>\n",
    "\n",
    "    <HR>\n",
    "\n",
    "    <a href=\"http://somegreatsite.com\">Link Name</a>\n",
    "\n",
    "    is a link to another nifty site\n",
    "\n",
    "    <H1>This is a Header</H1>\n",
    "\n",
    "    <H2>This is a Medium Header</H2>\n",
    "\n",
    "    Send me mail at <a href=\"mailto:support@yourcompany.com\">\n",
    "\n",
    "    support@yourcompany.com</a>.\n",
    "\n",
    "    </BODY>\n",
    "\n",
    "    </HTML>\n",
    "    \n",
    "    \n",
    "    *XML example*\n",
    "    \n",
    "    <note>\n",
    "    <to>Tove</to>\n",
    "    <from>Jani</from>\n",
    "    <heading>Reminder</heading>\n",
    "    <body>Don't forget me this weekend!</body>\n",
    "    </note>\n",
    "    "
   ]
  },
  {
   "cell_type": "markdown",
   "metadata": {},
   "source": [
    "**Programming language**: \n",
    "\n",
    "* \"A programming language is a *formal language*, which comprises a *set of instructions* that produce various kinds of output\" (https://en.wikipedia.org/wiki/Programming_language)\n",
    "* \"A programming language is a set of commands, instructions, and other syntax use to create a *software program*\" (https://techterms.com/definition/programming_language)\n",
    "\n",
    "The *source code* of a program represents all the commands, instructions, etc, of which a program consists. "
   ]
  },
  {
   "cell_type": "code",
   "execution_count": null,
   "metadata": {},
   "outputs": [],
   "source": [
    "print(\"This is a simple print instruction\")# example of a simple print instruction "
   ]
  },
  {
   "cell_type": "markdown",
   "metadata": {},
   "source": [
    "2. Scripts\n",
    "\n",
    "\"A computer script is a *list of commands* that are executed by a certain program or scripting engine\" (https://techterms.com/definition/script)\n",
    "\n",
    "A script is a self-contained set of code that can be executed and produces a certain result. The possibilities are seemingly endless, scripts can be created for pretty much anything. For example, scripts can be created that require the user to give a certain input or can be applied to existing files.\n",
    "\n",
    "In order to understand scripts, one has to understand the programming language in which they are written. Learning programming languages can be very time consuming and is partly comparable to learning human languages (albeit with other dimensions). However, **even without being an expert, one can learn to find, understand, and use scripts.** Important in this respect is that you have some background knowledge of a programming language so that you can understand what a script does (which also enables one, with a bit of effort, to modify a script). Acquiring knowledge of a programming language can be done though (online) tutorials and courses. For the programming language called **Python**, see e.g.\n",
    "\n",
    "* https://www.tutorialspoint.com/python/\n",
    "* https://www.w3schools.com/python/\n",
    "* https://www.pythoncentral.io/\n",
    "* https://stackify.com/learn-python-tutorials/ (an overview with Python tutorials)\n",
    "\n",
    "NB: The quality and quantity of documentation differs per programming language, partly depending on the time a language has been around for and the extent to which it has been adopted by non-specialists. \n",
    "\n",
    "\n",
    "Possible applications of scripts for historical research (there are a great many):\n",
    "\n",
    "* ingest, gather, and transform information\n",
    "* analyse and manipulate information\n",
    "\n",
    "Useful to apply scripts when:\n",
    "\n",
    "* working with large datasets\n",
    "* working with clean and uniform data\n",
    "* outcome of script is pretty straight-forward\n",
    "\n",
    "Perhaps better not to use scripts when:\n",
    "\n",
    "* working with a small dataset\n",
    "* working with unstructured and/or complicated data"
   ]
  },
  {
   "cell_type": "markdown",
   "metadata": {},
   "source": [
    "## Where to find scripts?"
   ]
  },
  {
   "cell_type": "markdown",
   "metadata": {},
   "source": [
    "1. How to acquire scripts?\n",
    "\n",
    "    * Create a script ex nihilo\n",
    "    * Use the work of others ('Beter goed gejat dan slecht bedacht', Dutch for 'It is better to steal something good then to invent something bad')\n",
    "    * Modify or add to existing script\n",
    "\n",
    "\n",
    "2. Where to find them?\n",
    "\n",
    "This is a question that is easier raised then answered, for there are several ways of finding scripts. One can check online resources which contain code examples and 'snippets', such as:\n",
    "\n",
    "* https://www.pythonforbeginners.com/code-snippets-source-code/python-code-examples\n",
    "* https://www.pythonforbeginners.com/code-snippets-source-code/python-code-snippets-2\n",
    "\n",
    "Such an approach has a high degree of hit-or-miss. Targeted searches in Google are much more efficient and return specific items on fora such as *Stack Overflow*, *GitHub* and other **community initiatives** (very helpful for open-source languages such as Python).  \n",
    "\n",
    "*Stack Overflow*\n",
    "\n",
    "* Forum\n",
    "* Ask questions and respond to questions about computer programming\n",
    "* See https://stackoverflow.com/\n",
    "\n",
    "*Example*\n",
    "\n",
    "Finding a script which converts DDMMYY (e.g. 01072019) into DD/MM/YYYY. Search in Google on 'python convert date stack overflow' and https://stackoverflow.com/questions/1745042/convert-date-python/1745082. Here, one of the users provides a particular script: import datetime\n",
    "date = datetime.datetime.strptime(\"111609\", \"%m%d%y\")\n",
    "print date.strftime(\"%m/%d/%Y\")\n",
    "\n",
    "The question is: what if we have found a script, how to run and actually use it??"
   ]
  },
  {
   "cell_type": "markdown",
   "metadata": {},
   "source": [
    "## How to run and use scripts?"
   ]
  },
  {
   "cell_type": "markdown",
   "metadata": {},
   "source": [
    "There are several ways of running scripts, depending on the programming language and on one's preference.  \n",
    "\n",
    "**Our focus**: \n",
    "\n",
    "* **Python** programming language (https://www.python.org/)\n",
    "* **Jupyter Notebook** (a Python **interpreter**) web application. \"The Jupyter Notebook is an open-source web application that allows you to create and share documents that contain live code, equations, visualizations and narrative text. Uses include: data cleaning and transformation, numerical simulation, statistical modeling, data visualization, machine learning, and much more.\" (https://jupyter.org/)\n",
    "* Easy installation with **Anaconda**, a Python (and R) distribution that facilitates package management (https://www.anaconda.com/). Many packages for data analysis are already include in this distribution"
   ]
  },
  {
   "cell_type": "markdown",
   "metadata": {},
   "source": [
    "### Data Analysis with Python - Basics (adapted from http://swcarpentry.github.io/python-novice-inflammation/)"
   ]
  },
  {
   "cell_type": "markdown",
   "metadata": {},
   "source": [
    "#### 1. Variables\n",
    "\n",
    "A variable is just a way to store values"
   ]
  },
  {
   "cell_type": "code",
   "execution_count": null,
   "metadata": {},
   "outputs": [],
   "source": [
    "# It is possible to perform direct calculations using any Python interpreter. For instance:\n",
    "13 + 8"
   ]
  },
  {
   "cell_type": "code",
   "execution_count": null,
   "metadata": {},
   "outputs": [],
   "source": [
    "# however, this is not very useful for data analysis, so we can assign values to a variable,\n",
    "# and we can use that variable at any time:\n",
    "birth_year = 1769\n",
    "death_year = 1821"
   ]
  },
  {
   "cell_type": "code",
   "execution_count": null,
   "metadata": {},
   "outputs": [],
   "source": [
    "# The we can perform calculations, like:\n",
    "print('Napoleon Bonaparte lived for', death_year - birth_year, 'years')"
   ]
  },
  {
   "cell_type": "markdown",
   "metadata": {},
   "source": [
    "#### 2. Types of data\n",
    "\n",
    "Python deals with various types of data. Three common ones are:\n",
    "\n",
    "* integer numbers\n",
    "* floating point numbers, and\n",
    "* strings\n",
    "\n",
    "In the previous example, **birth_year** and **death_year** were **integer numbers**. **Floating point numbers** include a decimal point, so it is easy to performa calculations with this type of data too. However, with **strings**, things get a little more complicated"
   ]
  },
  {
   "cell_type": "code",
   "execution_count": null,
   "metadata": {},
   "outputs": [],
   "source": [
    "birth_date = '08/15/1769'\n",
    "death_date = '05/05/1821'"
   ]
  },
  {
   "cell_type": "code",
   "execution_count": null,
   "metadata": {},
   "outputs": [],
   "source": [
    "# Now the dates have more information and are stored as STRINGS instead of INTEGERS. If we try the same, we will get an error:\n",
    "print('Napoleon Bonaparte lived for', death_date - birth_date, 'years')"
   ]
  },
  {
   "cell_type": "code",
   "execution_count": null,
   "metadata": {},
   "outputs": [],
   "source": [
    "# We need to manipulate the data\n",
    "import datetime as dt # importing a package tha deals with dates\n",
    "date_format = \"%m/%d/%Y\" # defining the standard date format\n",
    "\n",
    "# assuring our data is in the right date format\n",
    "birth_date = dt.datetime.strptime(birth_date, date_format).date() \n",
    "death_date = dt.datetime.strptime(death_date, date_format).date()\n",
    "\n",
    "# getting our result\n",
    "print('Napoleon Bonaparte lived for', (death_date - birth_date).days, 'days')"
   ]
  },
  {
   "cell_type": "markdown",
   "metadata": {},
   "source": [
    "#### 3. Storing data in Python\n",
    "\n",
    "Besides variables, there are other ways of storing data in Python. The two most common are:\n",
    "\n",
    "* lists\n",
    "* dictionaries\n",
    "\n",
    "While with lists we can store multiple values (but only values!), with dictionaries we can store values that are associated with keys! Let's see an example"
   ]
  },
  {
   "cell_type": "code",
   "execution_count": null,
   "metadata": {},
   "outputs": [],
   "source": [
    "# below we have two lists: one with historical actors and the other with their birth dates\n",
    "historical_actors = ['Isabella I of Castile','Napoleon Bonaparte','Catherine the Great','Martin Luther','Queen Victoria']\n",
    "birth_dates = ['04/22/1451','08/15/1769','05/02/1729','11/10/1483','05/24/1819']"
   ]
  },
  {
   "cell_type": "code",
   "execution_count": null,
   "metadata": {},
   "outputs": [],
   "source": [
    "# we can create a single dictionary with these two lists, with historical actors as keys and\n",
    "# their respective birth dates as values\n",
    "birth_actors = {'Isabella I of Castile':'04/22/1451','Napoleon Bonaparte':'08/15/1769','Catherine the Great':'05/02/1729',\n",
    "                'Martin Luther':'11/10/1483','Queen Victoria':'05/24/1819'}"
   ]
  },
  {
   "cell_type": "markdown",
   "metadata": {},
   "source": [
    "#### 4. Manipulating data\n",
    "\n",
    "Two very basic and also very practical ways of manipulating data are:\n",
    "\n",
    "* slicing\n",
    "* for loops"
   ]
  },
  {
   "cell_type": "markdown",
   "metadata": {},
   "source": [
    "##### Slicing\n",
    "\n",
    "**Very, very important** - In Python the index (the position of a value) starts at 0, so when slicing we have to keep this in mind! The first value of a list, for instance, has index 0!"
   ]
  },
  {
   "cell_type": "code",
   "execution_count": null,
   "metadata": {},
   "outputs": [],
   "source": [
    "# the entire list (our dataset)\n",
    "print(historical_actors)"
   ]
  },
  {
   "cell_type": "code",
   "execution_count": null,
   "metadata": {},
   "outputs": [],
   "source": [
    "# one may be interested only in the first three values of the dataset\n",
    "print(historical_actors[0:3]) # the first limit (the value before the ':') is included, but the second limit is not!\n",
    "print(historical_actors[:3]) "
   ]
  },
  {
   "cell_type": "code",
   "execution_count": null,
   "metadata": {},
   "outputs": [],
   "source": [
    "# or perhaps, in the last four values of the data\n",
    "print(historical_actors[-4:])"
   ]
  },
  {
   "cell_type": "code",
   "execution_count": null,
   "metadata": {},
   "outputs": [],
   "source": [
    "# or yet, only in the values in specific positions\n",
    "print(historical_actors[1:3])\n",
    "print(historical_actors[2:4])"
   ]
  },
  {
   "cell_type": "markdown",
   "metadata": {},
   "source": [
    "##### For loops\n",
    "\n",
    "This is a technique used when we want to repeat the same task, several times, as for instance, for every value of the dataset. There are two main ways of performing for loops:"
   ]
  },
  {
   "cell_type": "code",
   "execution_count": null,
   "metadata": {},
   "outputs": [],
   "source": [
    "# first, we can 'call' values directly\n",
    "for actor in historical_actors:\n",
    "    print(actor)\n",
    "    \n",
    "for date in birth_dates:\n",
    "    print(date)"
   ]
  },
  {
   "cell_type": "code",
   "execution_count": null,
   "metadata": {},
   "outputs": [],
   "source": [
    "# second, we can 'call' values using their indexes \n",
    "# this is particularly useful when we have more than one list, for example\n",
    "\n",
    "for i in range(len(historical_actors)): \n",
    "    print('The birth of', historical_actors[i], 'was on', birth_dates[i])\n",
    "    \n",
    "# this reads as: for every index in the range of the length of the list containing the historical actors,\n",
    "# print their name and their birthdate"
   ]
  },
  {
   "cell_type": "markdown",
   "metadata": {},
   "source": [
    "#### 4. Loading data\n",
    "\n",
    "Like everything so far, there exist many forms of importing (or loading) data to Python. Here we are going to use:\n",
    "\n",
    "* the **pandas** package (https://pandas.pydata.org/) for data analysis\n",
    "* **CSV** files (https://en.wikipedia.org/wiki/Comma-separated_values) for storing tabular data"
   ]
  },
  {
   "cell_type": "code",
   "execution_count": null,
   "metadata": {},
   "outputs": [],
   "source": [
    "import pandas as pd # importing a package tha deals with dates\n",
    "\n",
    "# let's load the the historical actors into a Python list\n",
    "historical_actors = pd.read_csv('actors_birthdate.csv')['historical_actors'].values.tolist()\n",
    "\n",
    "# and load the birth dates as well\n",
    "birth_dates = pd.read_csv('actors_birthdate.csv')['birth_dates'].values.tolist()"
   ]
  },
  {
   "cell_type": "code",
   "execution_count": null,
   "metadata": {},
   "outputs": [],
   "source": [
    "print(historical_actors)\n",
    "print(birth_dates)"
   ]
  },
  {
   "cell_type": "markdown",
   "metadata": {},
   "source": [
    "#### 5. Scripts\n",
    "\n",
    "As we said before, a script is a list of commands (tasks) that are execetude by a program. In simple terms, in scientific programming (or data analysis), we develop scripts so the computer can perform taks to helps us with our research. So far, we have two lists that store information about historical actors and their birthdate. But the birthdates are in a different format from what we desire (we want YYYY/MM/DD, istead of MM/DD/YYYY). In order to standardise our data, we need to change this format. We will use a simple, two-step, script to do so. This script will take our list of birthdates as input, and \n",
    "\n",
    "* 1. will change the date format of our data\n",
    "* 2. will create a CSV file with our new data"
   ]
  },
  {
   "cell_type": "code",
   "execution_count": null,
   "metadata": {},
   "outputs": [],
   "source": [
    "# this is our script\n",
    "def change_date_format(dates,filename):\n",
    "\n",
    "# 1. INVERSION OF STRINGS - changing the date format\n",
    "    output_list = []\n",
    "    for date in dates:\n",
    "        output_list.append(date[6:] + \"/\" + date[:2] + \"/\" + date[3:5])\n",
    "\n",
    "# 2. OUTPUT DATA - creating a file with the new data\n",
    "    df = pd.DataFrame(output_list, columns=[\"birthdates_new_format\"])\n",
    "    df.to_csv(filename+'.csv', index=False)    "
   ]
  },
  {
   "cell_type": "code",
   "execution_count": null,
   "metadata": {},
   "outputs": [],
   "source": [
    "# now we can call our script, which, in this case, is composed of a single function doinf two main tasks\n",
    "# We need to give as input: our list of birthdates, and the name of the file that we will create\n",
    "change_date_format(birth_dates,'new_format')"
   ]
  },
  {
   "cell_type": "markdown",
   "metadata": {},
   "source": [
    "**Worth reminding** - Our script above uses the two aforementioned techniques for manipulating data: **slicing** and **for loops**"
   ]
  },
  {
   "cell_type": "markdown",
   "metadata": {},
   "source": [
    "Now let's create a network of letters exchanged by historical actors, supposing that they could send letters to anyone in history, from past and future :). This is going to be a little more complicated script (but not so much!), with several steps."
   ]
  },
  {
   "cell_type": "code",
   "execution_count": null,
   "metadata": {},
   "outputs": [],
   "source": [
    "# first, we import the packages we believe we might need\n",
    "import networkx as nx\n",
    "import pandas as pd\n",
    "\n",
    "# then, we define a function to create the network from our data\n",
    "# a function itself has some steps within it\n",
    "def create_network_of_letters(filename):\n",
    "    \n",
    "    # loading the data\n",
    "    senders = pd.read_csv(filename)['senders'].values.tolist()\n",
    "    nations = pd.read_csv(filename)['nationality'].values.tolist()\n",
    "    recipients = pd.read_csv(filename)['recipients'].values.tolist()\n",
    "    \n",
    "    # initiating a graph (network)\n",
    "    G = nx.Graph()\n",
    "    \n",
    "    # adding nodes and links to the network\n",
    "    for i in range(len(senders)):\n",
    "        G.add_node(senders[i],birthplace=nations[i],name=senders[i])\n",
    "        G.add_node(recipients[i])\n",
    "        G.add_edge(senders[i],recipients[i])\n",
    "        \n",
    "    # return the final network    \n",
    "    return G\n",
    "\n",
    "# now we call the function to create the network with our date\n",
    "# we need to give as input the name of the file where our data is stored\n",
    "G = create_network_of_letters('letters_exchange.csv')\n",
    "\n",
    "# after the network is created, we can check the degree of each node\n",
    "# that is, an actor has corresponded with how many other actors\n",
    "print(G.degree())"
   ]
  },
  {
   "cell_type": "markdown",
   "metadata": {},
   "source": [
    "#### 5. Visualisation\n",
    "\n",
    "Again, there are a myriad of possibilities for data visualisation too. We will now see a simple script to visualise the network, that we just created, of letters exchanged between historical actors of different periods."
   ]
  },
  {
   "cell_type": "code",
   "execution_count": null,
   "metadata": {},
   "outputs": [],
   "source": [
    "# first, again, we import the packages that might be useful\n",
    "import matplotlib.pyplot as plt\n",
    "import seaborn as sns\n",
    "sns.set(color_codes=True)\n",
    "%matplotlib inline\n",
    "\n",
    "# we set up the visualisation environment\n",
    "fig = plt.figure(figsize=(8,6), dpi=500)\n",
    "ax = fig.add_subplot(1,1,1)\n",
    "\n",
    "# we calculate the position of the nodes in the layout\n",
    "pos = nx.fruchterman_reingold_layout(G)\n",
    "\n",
    "# we define the colors of the nodes based on their nationalties\n",
    "colors = {'Georgia': '#1a1a1a', 'Austria': '#EF4A42', 'US': '#9E9E9E', \\\n",
    "          'Italy': '#098137', 'France': '#501557', 'Greece': '#770808', \\\n",
    "          'Germany': '#d82a20', 'Unknown': '#FDE401', 'UK':'#00529F'}\n",
    "\n",
    "# we draw the network\n",
    "nx.draw_networkx_nodes(G, pos=pos, node_size=[d**3 for n,d in G.degree()], alpha=0.9, \\\n",
    "                       node_color=[colors[G.node[node]['birthplace']] for node in G])\n",
    "nx.draw_networkx_labels(G, pos=pos, labels=nx.get_node_attributes(G, 'name'), font_size=9)\n",
    "nx.draw_networkx_edges(G, pos=pos, width=1,alpha=0.3,edge_color='b')\n",
    "\n",
    "# we show the network on the screen\n",
    "plt.tight_layout()\n",
    "plt.axis('off')\n",
    "plt.show()"
   ]
  },
  {
   "cell_type": "code",
   "execution_count": null,
   "metadata": {},
   "outputs": [],
   "source": [
    "# auxiliary script to create data of letters exchanged\n",
    "import pandas as pd\n",
    "import csv\n",
    "import random\n",
    "import numpy as np\n",
    "\n",
    "senders = pd.read_csv('actors_birthplace.csv')['Senders'].values.tolist()\n",
    "places = pd.read_csv('actors_birthplace.csv')['Nationality'].values.tolist()\n",
    "\n",
    "send = []\n",
    "nat = []\n",
    "recip = []\n",
    "\n",
    "for i in range(len(senders)):\n",
    "    n = random.choice(np.random.geometric(1/float(4),15))\n",
    "    send.extend([senders[i]]*n)\n",
    "    nat.extend([places[i]]*n)\n",
    "    for i in range(n):\n",
    "        r = random.choice(senders)\n",
    "        recip.append(r)\n",
    "        \n",
    "rows = zip(send,nat,recip)\n",
    "\n",
    "with open('letters_exchange.csv','w') as f:\n",
    "    writer = csv.writer(f)\n",
    "    writer.writerow(['senders','nationality','recipients'])\n",
    "    for row in rows:\n",
    "        writer.writerow(row)"
   ]
  }
 ],
 "metadata": {
  "kernelspec": {
   "display_name": "Python 3",
   "language": "python",
   "name": "python3"
  },
  "language_info": {
   "codemirror_mode": {
    "name": "ipython",
    "version": 3
   },
   "file_extension": ".py",
   "mimetype": "text/x-python",
   "name": "python",
   "nbconvert_exporter": "python",
   "pygments_lexer": "ipython3",
   "version": "3.7.3"
  }
 },
 "nbformat": 4,
 "nbformat_minor": 2
}
